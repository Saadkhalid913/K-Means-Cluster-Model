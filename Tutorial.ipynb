{
  "nbformat": 4,
  "nbformat_minor": 0,
  "metadata": {
    "colab": {
      "name": "Tutorial.ipynb",
      "provenance": [],
      "collapsed_sections": [],
      "authorship_tag": "ABX9TyMs5AIuz/PgMzKMzICs3dmV",
      "include_colab_link": true
    },
    "kernelspec": {
      "name": "python3",
      "display_name": "Python 3"
    },
    "language_info": {
      "name": "python"
    }
  },
  "cells": [
    {
      "cell_type": "markdown",
      "metadata": {
        "id": "view-in-github",
        "colab_type": "text"
      },
      "source": [
        "<a href=\"https://colab.research.google.com/github/Saadkhalid913/K-Means-Cluster-Model/blob/main/Tutorial.ipynb\" target=\"_parent\"><img src=\"https://colab.research.google.com/assets/colab-badge.svg\" alt=\"Open In Colab\"/></a>"
      ]
    },
    {
      "cell_type": "code",
      "metadata": {
        "id": "AnNOki6c0YRn",
        "colab": {
          "base_uri": "https://localhost:8080/"
        },
        "outputId": "04107ec4-54a2-41fe-c3c8-6ca333f4ab2f"
      },
      "source": [
        "import numpy as np\n",
        "from math import sqrt  \n",
        "import matplotlib.pyplot as plt\n",
        "from sklearn.datasets import make_blobs \n",
        "from sklearn.metrics import accuracy_score, confusion_matrix \n",
        "from sklearn.preprocessing import MinMaxScaler\n",
        "\n",
        "class KMeans():\n",
        "\n",
        "  def __init__(self, X: np.array, K: int):\n",
        "    self.X = X \n",
        "    self.K = K \n",
        "    self.centres = np.random.rand(K, X.shape[1])\n",
        "    self.Normalize()\n",
        "    self.Classes = None\n",
        "    self.n_samples = X.shape[0]\n",
        "\n",
        "  def GetEuclideanDistance(self, v1, v2):\n",
        "    return sqrt(np.sum((v1-v2)**2))\n",
        "  \n",
        "  def Normalize(self):\n",
        "    M = MinMaxScaler()\n",
        "    self.X = M.fit_transform(self.X)\n",
        "\n",
        "  def FindClosestCentre(self, v):\n",
        "    ClosestCentreDistance = float(\"inf\")\n",
        "    ClosestCentreIndex = None \n",
        "\n",
        "    for i in range(self.K):\n",
        "      center = self.centres[i]\n",
        "      distance = self.GetEuclideanDistance(v, center)\n",
        "      if distance < ClosestCentreDistance:\n",
        "        ClosestCentreDistance = distance\n",
        "        ClosestCentreIndex = i\n",
        "    return ClosestCentreIndex\n",
        "  \n",
        "  def MapClosestCentre(self):\n",
        "    vec = []\n",
        "    for i in range(self.n_samples):\n",
        "      index = self.FindClosestCentre(self.X[i])\n",
        "      vec.append(index)\n",
        "\n",
        "    self.Classes = np.array(vec).reshape(-1, 1)\n",
        "\n",
        "  def ChangeCenters(self):\n",
        "    for i in range(self.K):\n",
        "      self.centres[i] = np.sum(self.X[np.array(self.Classes == i).reshape(-1)], axis=0) / len(self.X[np.array(self.Classes == i).reshape(-1)])\n",
        "\n",
        "if __name__ == \"__main__\":\n",
        "  k = 4 \n",
        "  TrainingX, TrainingY = make_blobs(n_samples=500, n_features=10, cluster_std=10, centers=k)\n",
        "\n",
        "  km = KMeans(TrainingX, k)\n",
        "  km.MapClosestCentre()\n",
        "\n",
        "  for i in range(50):\n",
        "    km.MapClosestCentre()\n",
        "    km.ChangeCenters()\n",
        "\n",
        "  data = np.concatenate((km.X , km.Classes), axis=1)\n",
        "\n",
        "  # plt.scatter(data[ : , [0]], data[ : , [1]], c=\"r\")\n",
        "  # plt.scatter(km.centres[ : , [0]], km.centres[ : , [1]], c=\"b\")\n",
        "  # plt.show()\n",
        "\n",
        "\n",
        "  print(confusion_matrix(TrainingY, km.Classes.reshape(-1)))\n",
        "  # print(np.concatenate((TrainingY.reshape(-1, 1), km.Classes), axis =1 ))"
      ],
      "execution_count": null,
      "outputs": [
        {
          "output_type": "stream",
          "name": "stdout",
          "text": [
            "[[  0 124   0   1]\n",
            " [  0   0 125   0]\n",
            " [  0   0   0 125]\n",
            " [125   0   0   0]]\n"
          ]
        }
      ]
    }
  ]
}